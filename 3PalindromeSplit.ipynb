{
 "cells": [
  {
   "cell_type": "markdown",
   "source": [
    "<b>Problem Description</b> -:  In this 3 Palindrome, Given an input string word, split the string into exactly 3 palindromic substrings. Working from left to right, choose the smallest split for the first substring that still allows the remaining word to be split into 2 palindromes.\r\n",
    "\r\n",
    "Similarly, choose the smallest second palindromic substring that leaves a third palindromic substring.\r\n",
    "\r\n",
    "If there is no way to split the word into exactly three palindromic substrings, print “Impossible” (without quotes). Every character of the string needs to be consumed.\r\n",
    "\r\n",
    "### Cases not allowed –\r\n",
    "\r\n",
    "After finding 3 palindromes using above instructions, if any character of the original string remains unconsumed.\r\n",
    "No character may be shared in forming 3 palindromes.\r\n",
    "Constraints\r\n",
    "\r\n",
    "1 <= the length of input sting <= 1000\r\n",
    "Input\r\n",
    "\r\n",
    "First line contains the input string consisting of characters between [a-z].\r\n",
    "Output\r\n",
    "\r\n",
    "Print 3 substrings one on each line.\r\n",
    "Time Limit\r\n",
    "\r\n",
    "1\r\n",
    "\r\n",
    "## Examples\r\n",
    "\r\n",
    "### Example 1\r\n",
    "\r\n",
    "#### Input\r\n",
    "\r\n",
    "nayannamantenet\r\n",
    "\r\n",
    "#### Output\r\n",
    "\r\n",
    "nayan\r\n",
    "\r\n",
    "naman\r\n",
    "\r\n",
    "tenet\r\n",
    "\r\n",
    "## Explanation\r\n",
    "\r\n",
    "The original string can be split into 3 palindromes as mentioned in the output.\r\n",
    "However, if the input was nayanamantenet, then the answer would be “Impossible”.\r\n",
    "Example 2\r\n",
    "\r\n",
    "#### Input\r\n",
    "\r\n",
    "aaaaa\r\n",
    "\r\n",
    "#### Output\r\n",
    "\r\n",
    "a\r\n",
    "\r\n",
    "a\r\n",
    "\r\n",
    "aaa\r\n",
    "\r\n",
    "## Explanation\r\n",
    "\r\n",
    "The other ways to split the given string into 3 palindromes are as follows –\r\n",
    "[a, aaa, a], [aaa, a, a], [aa, aa, a], etc.\r\n",
    "Since we want to minimize the length of the first palindromic substring using left to right processing, the correct way to split is [a, a, aaa].\r\n",
    "### Example 3\r\n",
    "\r\n",
    "#### Input\r\n",
    "\r\n",
    "aaaabaaaa\r\n",
    "\r\n",
    "#### Output\r\n",
    "\r\n",
    "a\r\n",
    "\r\n",
    "aaabaaa\r\n",
    "\r\n",
    "a\r\n",
    "\r\n",
    "## Explanation\r\n",
    "\r\n",
    "The other ways to split the given string into 3 palindromes are as follows –\r\n",
    "[aaaa, b, aaaa], [aa, aabaa, aa], etc.\r\n",
    "Since we want to minimize the length of the first palindromic substring using left to right processing, the correct way to split is [a, aaabaaa, a]."
   ],
   "metadata": {}
  },
  {
   "cell_type": "code",
   "execution_count": 105,
   "source": [
    "givenString = \"aaaaaaa\"\r\n",
    "# givenString = list(givenString)\r\n"
   ],
   "outputs": [],
   "metadata": {}
  },
  {
   "cell_type": "code",
   "execution_count": 106,
   "source": [
    "def isPalindrome(chkString: str):\r\n",
    "    if(len(chkString) == 1):\r\n",
    "        return True\r\n",
    "    reverseStr = chkString[::-1]\r\n",
    "    return reverseStr == chkString\r\n"
   ],
   "outputs": [],
   "metadata": {}
  },
  {
   "cell_type": "code",
   "execution_count": 109,
   "source": [
    "ind = 0\r\n",
    "givenLength = len(givenString)\r\n",
    "palindrome3 = []\r\n",
    "plaindrome3Found = False\r\n",
    "for x in range(1,givenLength-1):\r\n",
    "    s1 = givenString[:x]\r\n",
    "    \r\n",
    "    if isPalindrome(s1):\r\n",
    "        for z in range(1,givenLength-x):\r\n",
    "            s2 = givenString[x:x+z]\r\n",
    "            s3 = givenString[x+z:]\r\n",
    "            if(isPalindrome(s2) and isPalindrome(s3)):\r\n",
    "                # print(s1,s2,s3)\r\n",
    "                palindrome3.append(s1)\r\n",
    "                palindrome3.append(s2)\r\n",
    "                palindrome3.append(s3) \r\n",
    "                plaindrome3Found = True\r\n",
    "                break\r\n",
    "    if(plaindrome3Found):\r\n",
    "        break            \r\n",
    "if(len(palindrome3)!=3):\r\n",
    "    print(\"Impossible\") \r\n",
    "else:\r\n",
    "    print(palindrome3[0],palindrome3[1],palindrome3[2])                   \r\n"
   ],
   "outputs": [
    {
     "output_type": "stream",
     "name": "stdout",
     "text": [
      "a a aaaaa\n",
      "['a', 'a', 'aaaaa']\n"
     ]
    }
   ],
   "metadata": {}
  },
  {
   "cell_type": "code",
   "execution_count": null,
   "source": [
    " "
   ],
   "outputs": [],
   "metadata": {}
  }
 ],
 "metadata": {
  "orig_nbformat": 4,
  "language_info": {
   "name": "python",
   "version": "3.9.0",
   "mimetype": "text/x-python",
   "codemirror_mode": {
    "name": "ipython",
    "version": 3
   },
   "pygments_lexer": "ipython3",
   "nbconvert_exporter": "python",
   "file_extension": ".py"
  },
  "kernelspec": {
   "name": "python3",
   "display_name": "Python 3.9.0 64-bit"
  },
  "interpreter": {
   "hash": "63fd5069d213b44bf678585dea6b12cceca9941eaf7f819626cde1f2670de90d"
  }
 },
 "nbformat": 4,
 "nbformat_minor": 2
}