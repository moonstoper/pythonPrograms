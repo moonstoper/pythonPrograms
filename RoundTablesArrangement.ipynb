{
 "cells": [
  {
   "cell_type": "markdown",
   "source": [
    "In a Conference ,attendees are invited for a dinner after the conference.The Co-ordinator,Sagar arranged around round tables for dinner and want to have an impactful seating experience for the attendees.Before finalizing the seating arrangement,he wants to analyze all the possible arrangements.These are R round tables and N attendees.In case where N is an exact multiple of R,the number of attendees must be exactly N//R,,If N is not an exact multiple of R, then the distribution of attendees must be as equal as possible.Please refer to the example section before for better understanding.\r\n",
    "For example, R = 2 and N = 3\r\n",
    "All possible seating arrangements are\r\n",
    "(1,2) & (3)\r\n",
    "(1,3) & (2)\r\n",
    "(2,3) & (1)\r\n",
    "Attendees are numbered from 1 to N.\r\n",
    "\r\n",
    "Input Format:\r\n",
    "\r\n",
    "The first line contains T denoting the number of test cases.\r\n",
    "Each test case contains two space separated integers R and N, Where R denotes the number of round tables and N denotes the number of attendees.\r\n",
    "Output Format:\r\n",
    "\r\n",
    "Single Integer S denoting the number of possible unique arrangements.\r\n",
    "\r\n",
    "Constraints:\r\n",
    "\r\n",
    "0 <= R <= 10(Integer)\r\n",
    "0 < N <= 20 (Integer)\r\n",
    "Sample Input 1:\r\n",
    "1\r\n",
    "2 5\r\n",
    "Sample Output 1:\r\n",
    "10\r\n",
    "\r\n",
    "Explanation:\r\n",
    "R = 2, N = 5\r\n",
    "\r\n",
    "(1,2,3) & (4,5)\r\n",
    "\r\n",
    "(1,2,4) & (3,5)\r\n",
    "\r\n",
    "(1,2,5) & (3,4)\r\n",
    "\r\n",
    "(1,3,4) & (2,5)\r\n",
    "\r\n",
    "(1,3,5) & (2,4)\r\n",
    "\r\n",
    "(1,4,5) & (2,3)\r\n",
    "\r\n",
    "(2,3,4) & (1,5)\r\n",
    "\r\n",
    "(2,3,5) & (1,4)\r\n",
    "\r\n",
    "(2,4,5) & (1,3)\r\n",
    "\r\n",
    "(3,4,5) & (1,2)\r\n",
    "\r\n",
    "Arrangements like\r\n",
    "\r\n",
    "(1,2,3) & (4,5)\r\n",
    "\r\n",
    "(2,1,3) & (4,5)\r\n",
    "\r\n",
    "(2,3,1) & (4,5) etc.\r\n",
    "\r\n",
    "But as it is a round table,all the above arrangements are same."
   ],
   "metadata": {}
  },
  {
   "cell_type": "code",
   "execution_count": 23,
   "source": [
    "R = 5\r\n",
    "N = 25"
   ],
   "outputs": [],
   "metadata": {}
  },
  {
   "cell_type": "code",
   "execution_count": 24,
   "source": [
    "factN = N//R\r\n",
    "print(factN)        "
   ],
   "outputs": [
    {
     "output_type": "stream",
     "name": "stdout",
     "text": [
      "5\n"
     ]
    }
   ],
   "metadata": {}
  },
  {
   "cell_type": "code",
   "execution_count": 25,
   "source": [
    "#answer = 5!/(2!x3!)\r\n",
    "import  math\r\n",
    "answer = math.factorial(N)/(math.factorial(factN)*math.factorial(N-factN))\r\n",
    "print(int(answer))"
   ],
   "outputs": [
    {
     "output_type": "stream",
     "name": "stdout",
     "text": [
      "53130\n"
     ]
    }
   ],
   "metadata": {}
  }
 ],
 "metadata": {
  "orig_nbformat": 4,
  "language_info": {
   "name": "python",
   "version": "3.9.0",
   "mimetype": "text/x-python",
   "codemirror_mode": {
    "name": "ipython",
    "version": 3
   },
   "pygments_lexer": "ipython3",
   "nbconvert_exporter": "python",
   "file_extension": ".py"
  },
  "kernelspec": {
   "name": "python3",
   "display_name": "Python 3.9.0 64-bit"
  },
  "interpreter": {
   "hash": "63fd5069d213b44bf678585dea6b12cceca9941eaf7f819626cde1f2670de90d"
  }
 },
 "nbformat": 4,
 "nbformat_minor": 2
}