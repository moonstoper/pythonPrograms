{
 "cells": [
  {
   "cell_type": "markdown",
   "source": [
    "Compute the nearest larger number by interchanging its digits updated.Given 2 numbers a and b find the smallest number greater than b by interchanging the digits of a and if not possible print -1.\r\n",
    "\r\n",
    "Input Format\r\n",
    "2 numbers a and b, separated by space.\r\n",
    "Output Format\r\n",
    "A single number greater than b.\r\n",
    "If not possible, print -1\r\n",
    "\r\n",
    "Constraints\r\n",
    "1 <= a,b <= 10000000\r\n",
    "\r\n",
    "Example 1:\r\n",
    "\r\n",
    "Sample Input:\r\n",
    "\r\n",
    "    459 500\r\n",
    "\r\n",
    "Sample Output:\r\n",
    "    549\r\n",
    "\r\n",
    "Example 2:\r\n",
    "\r\n",
    "Sample Input:\r\n",
    "\r\n",
    "    645757 457765\r\n",
    "\r\n",
    "Sample Output:\r\n",
    "    465577"
   ],
   "metadata": {}
  },
  {
   "cell_type": "code",
   "execution_count": 24,
   "source": [
    "a = 645757\r\n",
    "b = 457765\r\n",
    "numbersSet = set()\r\n"
   ],
   "outputs": [],
   "metadata": {}
  },
  {
   "cell_type": "markdown",
   "source": [],
   "metadata": {}
  },
  {
   "cell_type": "code",
   "execution_count": 25,
   "source": [
    "def permuatate(word:str,i:int,l:int):\r\n",
    "    word = list(word)\r\n",
    "    if(i==l):\r\n",
    "        numberS = int(\"\".join(word))\r\n",
    "        if(numberS>b):\r\n",
    "            numbersSet.add(numberS)\r\n",
    "    else :\r\n",
    "        for x in range(i,l):\r\n",
    "            word[x],word[i] = word[i],word[x]\r\n",
    "            permuatate(word,i+1,l)\r\n",
    "            word[i],word[x] = word[x],word[i]  "
   ],
   "outputs": [],
   "metadata": {}
  },
  {
   "cell_type": "code",
   "execution_count": 26,
   "source": [
    "tempa = str(a)\r\n",
    "permuatate(tempa,0,len(tempa))\r\n",
    "newNumberset = list(numbersSet)\r\n",
    "newNumberset.sort()\r\n",
    "print(newNumberset[0])"
   ],
   "outputs": [
    {
     "output_type": "stream",
     "name": "stdout",
     "text": [
      "549\n"
     ]
    }
   ],
   "metadata": {}
  }
 ],
 "metadata": {
  "orig_nbformat": 4,
  "language_info": {
   "name": "python",
   "version": "3.9.0",
   "mimetype": "text/x-python",
   "codemirror_mode": {
    "name": "ipython",
    "version": 3
   },
   "pygments_lexer": "ipython3",
   "nbconvert_exporter": "python",
   "file_extension": ".py"
  },
  "kernelspec": {
   "name": "python3",
   "display_name": "Python 3.9.0 64-bit"
  },
  "interpreter": {
   "hash": "63fd5069d213b44bf678585dea6b12cceca9941eaf7f819626cde1f2670de90d"
  }
 },
 "nbformat": 4,
 "nbformat_minor": 2
}