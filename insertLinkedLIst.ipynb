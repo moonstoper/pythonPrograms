{
 "cells": [
  {
   "cell_type": "markdown",
   "source": [
    "## Insert in a linked list\r\n",
    "## Deletion in a linked list"
   ],
   "metadata": {}
  },
  {
   "cell_type": "code",
   "execution_count": 94,
   "source": [
    "class Node:\r\n",
    "    def __init__(self,data):\r\n",
    "        self.data = data\r\n",
    "        self.next = None"
   ],
   "outputs": [],
   "metadata": {}
  },
  {
   "cell_type": "code",
   "execution_count": 95,
   "source": [
    "class LinkedList:\r\n",
    "    def __init__(self):\r\n",
    "        self.head = None\r\n",
    "    ## add at front\r\n",
    "\r\n",
    "\r\n",
    "    def push(self, new_data):\r\n",
    "        new_node = Node(new_data)\r\n",
    "        if(self.head is None):\r\n",
    "            self.head = new_node\r\n",
    "            return\r\n",
    "        new_node.next = self.head\r\n",
    "        self.head = new_node\r\n",
    "    ##add a node after given node\r\n",
    "\r\n",
    "\r\n",
    "    def insert(self, new_data, prev_node):\r\n",
    "        new_node = Node(new_data)\r\n",
    "        if(prev_node is None):\r\n",
    "            print(\"Must Provide prev_node\")\r\n",
    "            return\r\n",
    "\r\n",
    "        new_node.next = prev_node.next\r\n",
    "        prev_node.next = new_node\r\n",
    "    ## insert at last\r\n",
    "\r\n",
    "\r\n",
    "    def append(self, new_data):\r\n",
    "        new_node = Node(new_data)\r\n",
    "        if(self.head is None):\r\n",
    "            self.head = new_node\r\n",
    "            return\r\n",
    "        last = self.head\r\n",
    "        while(last.next is not None):\r\n",
    "            last = last.next\r\n",
    "        last.next = new_node\r\n",
    "        \r\n",
    "    def prinlist(self):\r\n",
    "        el = self.head\r\n",
    "        while(el is not None):\r\n",
    "            print(el.data)\r\n",
    "            el = el.next    \r\n",
    "\r\n",
    "    #### remove   key\r\n",
    "    def toDelete(self,key):\r\n",
    "        tempHead = self.head\r\n",
    "        if(tempHead is not None):\r\n",
    "            if(tempHead.data==key):\r\n",
    "                self.head = tempHead.next\r\n",
    "                return\r\n",
    "        while(tempHead is not None):\r\n",
    "            if(tempHead.data == key):\r\n",
    "                break\r\n",
    "            prev = tempHead\r\n",
    "            tempHead= tempHead.next\r\n",
    "        if(tempHead==None):\r\n",
    "            return\r\n",
    "        prev.next = tempHead.next\r\n",
    "        tempHead = None \r\n",
    "\r\n",
    "    ##reove form a position\r\n",
    "    def toRemoveAtPosition(self,position):\r\n",
    "        if(self.head==None):\r\n",
    "            return\r\n",
    "        temp = self.head\r\n",
    "        if position ==0:\r\n",
    "            self.head = temp.next\r\n",
    "            temp = None\r\n",
    "            return\r\n",
    "        for x in range(position-1):\r\n",
    "            temp = temp.next\r\n",
    "            if(temp is None):\r\n",
    "                break\r\n",
    "        if(temp is None):\r\n",
    "            return\r\n",
    "        if temp.next is None:\r\n",
    "            return\r\n",
    "        nxt = temp.next.next     \r\n",
    "        temp.next = None\r\n",
    "        temp.next = nxt\r\n",
    "        \r\n",
    "    #deleteAllNode\r\n",
    "    def deleteAll(self):\r\n",
    "       self.head = None\r\n",
    "\r\n",
    "    def countAll(self):\r\n",
    "        temp = self.head\r\n",
    "        count = 0\r\n",
    "        while(temp is not None):\r\n",
    "            temp = temp.next\r\n",
    "            count+=1\r\n",
    "        print(count)    "
   ],
   "outputs": [],
   "metadata": {}
  },
  {
   "cell_type": "code",
   "execution_count": 96,
   "source": [
    "## adding Nodes\r\n",
    "llist = LinkedList()\r\n",
    "llist.append(5)\r\n",
    "llist.push(1)\r\n",
    "llist.insert(10,llist.head)\r\n",
    "llist.push(-10)\r\n",
    "llist.prinlist()"
   ],
   "outputs": [
    {
     "output_type": "stream",
     "name": "stdout",
     "text": [
      "-10\n",
      "1\n",
      "10\n",
      "5\n"
     ]
    }
   ],
   "metadata": {}
  },
  {
   "cell_type": "code",
   "execution_count": 97,
   "source": [
    "llist.toDelete(1)\r\n",
    "llist.toDelete(-10)\r\n",
    "llist.push(97)\r\n",
    "llist.append(9)\r\n",
    "llist.toRemoveAtPosition(2)\r\n",
    "llist.prinlist()"
   ],
   "outputs": [
    {
     "output_type": "stream",
     "name": "stdout",
     "text": [
      "97\n",
      "10\n",
      "9\n"
     ]
    }
   ],
   "metadata": {}
  },
  {
   "cell_type": "code",
   "execution_count": 99,
   "source": [
    "llist.deleteAll()\r\n",
    "# llist.prinlist()\r\n",
    "llist.countAll()"
   ],
   "outputs": [
    {
     "output_type": "stream",
     "name": "stdout",
     "text": [
      "3\n"
     ]
    }
   ],
   "metadata": {}
  }
 ],
 "metadata": {
  "orig_nbformat": 4,
  "language_info": {
   "name": "python",
   "version": "3.9.0",
   "mimetype": "text/x-python",
   "codemirror_mode": {
    "name": "ipython",
    "version": 3
   },
   "pygments_lexer": "ipython3",
   "nbconvert_exporter": "python",
   "file_extension": ".py"
  },
  "kernelspec": {
   "name": "python3",
   "display_name": "Python 3.9.0 64-bit"
  },
  "interpreter": {
   "hash": "63fd5069d213b44bf678585dea6b12cceca9941eaf7f819626cde1f2670de90d"
  }
 },
 "nbformat": 4,
 "nbformat_minor": 2
}