{
 "metadata": {
  "language_info": {
   "codemirror_mode": {
    "name": "ipython",
    "version": 3
   },
   "file_extension": ".py",
   "mimetype": "text/x-python",
   "name": "python",
   "nbconvert_exporter": "python",
   "pygments_lexer": "ipython3",
   "version": "3.9.0"
  },
  "orig_nbformat": 4,
  "kernelspec": {
   "name": "python3",
   "display_name": "Python 3.9.0 64-bit"
  },
  "interpreter": {
   "hash": "63fd5069d213b44bf678585dea6b12cceca9941eaf7f819626cde1f2670de90d"
  }
 },
 "nbformat": 4,
 "nbformat_minor": 2,
 "cells": [
  {
   "cell_type": "code",
   "execution_count": null,
   "source": [
    "# Q1. Write a program to find the count of numbers that consists of unique digits.\r\n",
    "\r\n",
    "\r\n",
    "\r\n",
    "# Input:\r\n",
    "\r\n",
    "# Input consists of two Integer lower and upper value of a range\r\n",
    "\r\n",
    "\r\n",
    "\r\n",
    "# Output:\r\n",
    "\r\n",
    "# The output consists of a single line, print the count of unique digits in a given range. Else Print\"No Unique Number\"\r\n",
    "\r\n",
    "\r\n",
    "\r\n",
    "# Solution:\r\n",
    "\r\n",
    "# Input -\r\n",
    "\r\n",
    "# 10\r\n",
    "\r\n",
    "# 15\r\n",
    "\r\n",
    "#Output - \r\n",
    "5"
   ],
   "outputs": [],
   "metadata": {}
  },
  {
   "cell_type": "code",
   "execution_count": null,
   "source": [
    "lowerlimit = 10\r\n",
    "upperlimit = 15"
   ],
   "outputs": [],
   "metadata": {}
  },
  {
   "cell_type": "code",
   "execution_count": null,
   "source": [
    "count = 0\r\n",
    "tempnum = []\r\n",
    "lenTemp  = 0\r\n",
    "for x in range(lowerlimit,upperlimit+1):\r\n",
    "    if(x>9 or x<0):\r\n",
    "        tempnum += str(x)\r\n",
    "        # print(tempnum)\r\n",
    "        lenTemp = len(tempnum)\r\n",
    "        # print(len(set(tempnum)))\r\n",
    "        if(len(tempnum) == len(set(tempnum))):\r\n",
    "            count+=1\r\n",
    "        tempnum=[]\r\n",
    "    else:\r\n",
    "        count+=1\r\n",
    "if(count==0):\r\n",
    "    print(\"No Unique Number\")\r\n",
    "else:\r\n",
    "    print(count)         "
   ],
   "outputs": [],
   "metadata": {}
  }
 ]
}