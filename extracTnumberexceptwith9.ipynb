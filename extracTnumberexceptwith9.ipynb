{
 "cells": [
  {
   "cell_type": "markdown",
   "source": [
    "Bastin once had trouble finding the numbers in a string. The numbers are distributed in a string across various test cases. There are various numbers in each test case you need to find the number in each test case. Each test case has various numbers in sequence. You need to find only those numbers which do not contain 9. For eg, if the string contains \"hello this is alpha 5051 and 9475\".You will extract 5051 and not 9475. You need only those numbers which are consecutive and you need to help him find the numbers. Print the largest number.\r\n",
    "\r\n",
    "Note: Use long long for storing the numbers from the string.\r\n",
    "\r\n",
    "\r\n",
    "\r\n",
    "Input:\r\n",
    "\r\n",
    "The first line consists of T test cases and the next T lines contain a string.\r\n",
    "\r\n",
    "\r\n",
    "\r\n",
    "Output:\r\n",
    "\r\n",
    "For each string output the number stored in that string if various numbers are there print the largest one. If a string has no numbers print -1.\r\n",
    "\r\n",
    "\r\n",
    "\r\n",
    "Constraints:\r\n",
    "\r\n",
    "1<=T<=100\r\n",
    "\r\n",
    "1<=|S|<=10000\r\n",
    "\r\n",
    "\r\n",
    "\r\n",
    "Example:\r\n",
    "\r\n",
    "Input:\r\n",
    "\r\n",
    "1\r\n",
    "\r\n",
    "This is alpha 5057 and 97\r\n",
    "\r\n",
    "Output:\r\n",
    "\r\n",
    "5057\r\n",
    "\r\n",
    "\r\n",
    "\r\n",
    "Solution:\r\n",
    "\r\n",
    "Input:\r\n",
    "\r\n",
    "1\r\n",
    "\r\n",
    "dream job 100 and 101"
   ],
   "metadata": {}
  },
  {
   "cell_type": "code",
   "execution_count": 88,
   "source": [
    "numberofString = 1\r\n",
    "stringArr = \"dream job 100 and 101\"\r\n"
   ],
   "outputs": [],
   "metadata": {}
  },
  {
   "cell_type": "code",
   "execution_count": 89,
   "source": [
    "import re\r\n",
    "numbersArr = []\r\n",
    "numberIntArr = []"
   ],
   "outputs": [],
   "metadata": {}
  },
  {
   "cell_type": "code",
   "execution_count": 90,
   "source": [
    "\r\n",
    "numbersArr = re.findall('[0-9]+',stringArr)\r\n",
    "print(numbersArr)    \r\n",
    "\r\n",
    "if(len(numbersArr)==0):\r\n",
    "    print(-1)\r\n",
    "    #return\r\n",
    "   "
   ],
   "outputs": [
    {
     "output_type": "stream",
     "name": "stdout",
     "text": [
      "['100', '101']\n"
     ]
    }
   ],
   "metadata": {}
  },
  {
   "cell_type": "code",
   "execution_count": 91,
   "source": [
    "for x in numbersArr:\r\n",
    "    if '9' in x:\r\n",
    "        numbersArr.remove(x)   \r\n",
    "print(numbersArr) "
   ],
   "outputs": [
    {
     "output_type": "stream",
     "name": "stdout",
     "text": [
      "['100', '101']\n"
     ]
    }
   ],
   "metadata": {}
  },
  {
   "cell_type": "code",
   "execution_count": 92,
   "source": [
    "for x in numbersArr:\r\n",
    "    numberIntArr.append(int(x))\r\n",
    "numberIntArr.sort(reverse=True)\r\n"
   ],
   "outputs": [],
   "metadata": {}
  },
  {
   "cell_type": "code",
   "execution_count": 93,
   "source": [
    "print(numberIntArr[0])\r\n"
   ],
   "outputs": [
    {
     "output_type": "stream",
     "name": "stdout",
     "text": [
      "101\n"
     ]
    }
   ],
   "metadata": {}
  }
 ],
 "metadata": {
  "orig_nbformat": 4,
  "language_info": {
   "name": "python",
   "version": "3.9.0",
   "mimetype": "text/x-python",
   "codemirror_mode": {
    "name": "ipython",
    "version": 3
   },
   "pygments_lexer": "ipython3",
   "nbconvert_exporter": "python",
   "file_extension": ".py"
  },
  "kernelspec": {
   "name": "python3",
   "display_name": "Python 3.9.0 64-bit"
  },
  "interpreter": {
   "hash": "63fd5069d213b44bf678585dea6b12cceca9941eaf7f819626cde1f2670de90d"
  }
 },
 "nbformat": 4,
 "nbformat_minor": 2
}