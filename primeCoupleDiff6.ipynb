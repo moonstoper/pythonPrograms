{
    "cells": [
        {
            "cell_type": "markdown",
            "source": [
                "<b>There is a range given n and m in which we have to find the count of all the prime pairs whose difference is 6. We have to find how many sets are there within a given range.</b>\r\n",
                "\r\n",
                "\r\n",
                "\r\n",
                "## Output:\r\n",
                "\r\n",
                "The output consists of a single line, print the count prime pairs in a given range. Else print\"No Prime Pairs\".\r\n",
                "\r\n",
                "\r\n",
                "\r\n",
                "## Constraints:\r\n",
                "\r\n",
                "2<=n<=1000\r\n",
                "\r\n",
                "n<=m<=2000\r\n",
                "\r\n",
                "\r\n",
                "\r\n",
                "## Sample Input:\r\n",
                "\r\n",
                "4\r\n",
                "\r\n",
                "30\r\n",
                "\r\n",
                "\r\n",
                "\r\n",
                "## Output:\r\n",
                "\r\n",
                "6\r\n",
                "\r\n",
                "\r\n",
                "\r\n",
                "## Explanation:\r\n",
                "\r\n",
                "(5, 11) (7, 13) (11, 17) (13, 19) (17, 23) (23, 29) . we have 6 prime pairs.\r\n",
                "\r\n",
                "\r\n",
                "\r\n",
                "## Solution:\r\n",
                "\r\n",
                "## Input -\r\n",
                "\r\n",
                "101\r\n",
                "\r\n",
                "500\r\n",
                "\r\n"
            ],
            "metadata": {}
        },
        {
            "cell_type": "code",
            "execution_count": 23,
            "source": [
                "lowerlimit = 4\r\n",
                "upperlimit = 30"
            ],
            "outputs": [],
            "metadata": {}
        },
        {
            "cell_type": "code",
            "execution_count": 24,
            "source": [
                "count = 0\r\n",
                "for x in range(lowerlimit,upperlimit+1):\r\n",
                "    firstFactor = True\r\n",
                "    secondFactor = True\r\n",
                "    for y in range(2,x):\r\n",
                "        if(x%y==0):\r\n",
                "            firstFactor = False        \r\n",
                "    if(firstFactor and x+6<=upperlimit):\r\n",
                "        for z in range(2,x+6):\r\n",
                "            if((x+6)%z==0):\r\n",
                "                secondFactor = False\r\n",
                "    else:\r\n",
                "        secondFactor  =False            \r\n",
                "    if(firstFactor and secondFactor):\r\n",
                "        count+=1\r\n",
                "        \r\n",
                "print(count)"
            ],
            "outputs": [
                {
                    "output_type": "stream",
                    "name": "stdout",
                    "text": [
                        "(5, 11)\n",
                        "(7, 13)\n",
                        "(11, 17)\n",
                        "(13, 19)\n",
                        "(17, 23)\n",
                        "(23, 29)\n",
                        "6\n"
                    ]
                }
            ],
            "metadata": {}
        }
    ],
    "metadata": {
        "orig_nbformat": 4,
        "language_info": {
            "name": "python",
            "version": "3.9.5",
            "mimetype": "text/x-python",
            "codemirror_mode": {
                "name": "ipython",
                "version": 3
            },
            "pygments_lexer": "ipython3",
            "nbconvert_exporter": "python",
            "file_extension": ".py"
        },
        "kernelspec": {
            "name": "python3",
            "display_name": "Python 3.9.0 64-bit"
        },
        "interpreter": {
            "hash": "63fd5069d213b44bf678585dea6b12cceca9941eaf7f819626cde1f2670de90d"
        }
    },
    "nbformat": 4,
    "nbformat_minor": 2
}