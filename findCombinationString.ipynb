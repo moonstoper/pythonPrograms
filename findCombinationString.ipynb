{
    "cells": [
        {
            "cell_type": "markdown",
            "source": [
                "Write a program to print all the combinations of the given word with or without meaning (when unique characters are given).\r\n",
                "\r\n",
                "\r\n",
                "\r\n",
                "Sample Input:\r\n",
                "\r\n",
                "abc\r\n",
                "\r\n",
                "\r\n",
                "\r\n",
                "Output:\r\n",
                "\r\n",
                "abc\r\n",
                "\r\n",
                "acb\r\n",
                "\r\n",
                "bac\r\n",
                "\r\n",
                "bca\r\n",
                "\r\n",
                "cba\r\n",
                "\r\n",
                "cab\r\n",
                "\r\n",
                "\r\n",
                "\r\n",
                "Solution:\r\n",
                "\r\n",
                "Input -\r\n",
                "\r\n",
                "hai\r\n",
                "\r\n"
            ],
            "metadata": {}
        },
        {
            "cell_type": "code",
            "execution_count": 8,
            "source": [
                "uniqueNumber = \"hai\"\r\n",
                "uniqueNumber = list(uniqueNumber)\r\n",
                "print(uniqueNumber)"
            ],
            "outputs": [
                {
                    "output_type": "stream",
                    "name": "stdout",
                    "text": [
                        "['h', 'a', 'i']\n"
                    ]
                }
            ],
            "metadata": {}
        },
        {
            "cell_type": "code",
            "execution_count": 9,
            "source": [
                "permutate(uniqueNumber, 0, len(uniqueNumber))"
            ],
            "outputs": [
                {
                    "output_type": "stream",
                    "name": "stdout",
                    "text": [
                        "hai\n",
                        "hia\n",
                        "ahi\n",
                        "aih\n",
                        "iah\n",
                        "iha\n"
                    ]
                }
            ],
            "metadata": {}
        },
        {
            "cell_type": "code",
            "execution_count": 10,
            "source": [
                "def permutate(word: str, i: int, l: int):\r\n",
                "    if(i == l):\r\n",
                "        print(\"\".join(word))\r\n",
                "    else:\r\n",
                "       for x in range(i, l):\r\n",
                "           word[x], word[i] = word[i], word[x]\r\n",
                "           permutate(word, i+1, l)\r\n",
                "           word[x], word[i] = word[i], word[x]"
            ],
            "outputs": [],
            "metadata": {}
        }
    ],
    "metadata": {
        "orig_nbformat": 4,
        "language_info": {
            "name": "python",
            "version": "3.9.0",
            "mimetype": "text/x-python",
            "codemirror_mode": {
                "name": "ipython",
                "version": 3
            },
            "pygments_lexer": "ipython3",
            "nbconvert_exporter": "python",
            "file_extension": ".py"
        },
        "kernelspec": {
            "name": "python3",
            "display_name": "Python 3.9.0 64-bit"
        },
        "interpreter": {
            "hash": "63fd5069d213b44bf678585dea6b12cceca9941eaf7f819626cde1f2670de90d"
        }
    },
    "nbformat": 4,
    "nbformat_minor": 2
}